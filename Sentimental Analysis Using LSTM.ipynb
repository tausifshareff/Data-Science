{
 "cells": [
  {
   "cell_type": "code",
   "execution_count": 1,
   "metadata": {
    "collapsed": true
   },
   "outputs": [],
   "source": [
    "import os\n",
    "\n",
    "os.environ[\"CUDA_DEVICE_ORDER\"] = \"PCI_BUS_ID\"\n",
    "os.environ[\"CUDA_VISIBLE_DEVICES\"] = \"1\"\n",
    "\n",
    "import tensorflow as tf\n",
    "\n",
    "tf_config = tf.ConfigProto()\n",
    "tf_config.gpu_options.allow_growth = True\n",
    "sess = tf.Session(config=tf_config)"
   ]
  },
  {
   "cell_type": "code",
   "execution_count": 2,
   "metadata": {},
   "outputs": [
    {
     "name": "stderr",
     "output_type": "stream",
     "text": [
      "Using TensorFlow backend.\n"
     ]
    }
   ],
   "source": [
    "import gensim\n",
    "import keras\n",
    "import numpy as np\n",
    "import pandas as pd\n",
    "\n",
    "from sklearn.model_selection import train_test_split\n",
    "\n",
    "from keras.models import Sequential\n",
    "from keras.layers import Input, Dense, LSTM, Embedding, Dropout, BatchNormalization, Activation, Bidirectional\n",
    "from keras.preprocessing.text import text_to_word_sequence, Tokenizer\n",
    "from keras.preprocessing.sequence import pad_sequences\n",
    "\n",
    "import matplotlib as mpl\n",
    "%matplotlib inline\n",
    "from matplotlib import pyplot as plt\n",
    "from keras.utils import plot_model \n",
    "from IPython.display import Image\n",
    "\n",
    "np.random.seed(1003)"
   ]
  },
  {
   "cell_type": "markdown",
   "metadata": {},
   "source": [
    "### Python 3.6.1"
   ]
  },
  {
   "cell_type": "code",
   "execution_count": 3,
   "metadata": {},
   "outputs": [
    {
     "data": {
      "text/plain": [
       "'3.1.0'"
      ]
     },
     "execution_count": 3,
     "metadata": {},
     "output_type": "execute_result"
    }
   ],
   "source": [
    "gensim.__version__"
   ]
  },
  {
   "cell_type": "code",
   "execution_count": 4,
   "metadata": {},
   "outputs": [
    {
     "data": {
      "text/plain": [
       "'1.3.0'"
      ]
     },
     "execution_count": 4,
     "metadata": {},
     "output_type": "execute_result"
    }
   ],
   "source": [
    "tf.__version__"
   ]
  },
  {
   "cell_type": "code",
   "execution_count": 5,
   "metadata": {},
   "outputs": [
    {
     "data": {
      "text/plain": [
       "'2.0.8'"
      ]
     },
     "execution_count": 5,
     "metadata": {},
     "output_type": "execute_result"
    }
   ],
   "source": [
    "keras.__version__"
   ]
  },
  {
   "cell_type": "markdown",
   "metadata": {},
   "source": [
    "### Specify Hyperparameters"
   ]
  },
  {
   "cell_type": "code",
   "execution_count": 6,
   "metadata": {
    "collapsed": true
   },
   "outputs": [],
   "source": [
    "# Specify the folder locations\n",
    "W2V_DIR = '/collection/hpallika/deeplearning/research_work/word_embeddings/GoogleNews-vectors-negative300.bin'\n",
    "# W2V_DIR = 'data/w2v_300d_snli_data.pkl'\n",
    "DATA_DIR = 'data/'\n",
    "\n",
    "# These are some hyperparameters that can be tuned\n",
    "MAX_SENT_LEN = 30\n",
    "MAX_VOCAB_SIZE = 20000\n",
    "LSTM_DIM = 128\n",
    "EMBEDDING_DIM = 300\n",
    "BATCH_SIZE = 32\n",
    "N_EPOCHS = 10"
   ]
  },
  {
   "cell_type": "markdown",
   "metadata": {},
   "source": [
    "### Load Data"
   ]
  },
  {
   "cell_type": "code",
   "execution_count": 7,
   "metadata": {
    "collapsed": true
   },
   "outputs": [],
   "source": [
    "# Read the text files of positive and negative sentences\n",
    "with open(DATA_DIR+'rt-polarity.neg', 'r', errors='ignore') as f:\n",
    "    neg = f.readlines()\n",
    "    \n",
    "with open(DATA_DIR+'rt-polarity.pos', 'r', errors='ignore') as f:\n",
    "    pos = f.readlines()"
   ]
  },
  {
   "cell_type": "code",
   "execution_count": 8,
   "metadata": {},
   "outputs": [
    {
     "name": "stdout",
     "output_type": "stream",
     "text": [
      "Number of negative sentences: 5331\n",
      "Number of positive sentences: 5331\n"
     ]
    }
   ],
   "source": [
    "print('Number of negative sentences:', len(neg))\n",
    "print('Number of positive sentences:', len(pos))"
   ]
  },
  {
   "cell_type": "code",
   "execution_count": 9,
   "metadata": {
    "collapsed": true
   },
   "outputs": [],
   "source": [
    "# Create a dataframe to store the sentence and polarity as 2 columns\n",
    "df = pd.DataFrame(columns=['sentence', 'polarity'])\n",
    "df['sentence'] = neg + pos\n",
    "df['polarity'] = [0]*len(neg) + [1]*len(pos)\n",
    "df = df.sample(frac=1, random_state=10) # Shuffle the rows\n",
    "df.reset_index(inplace=True, drop=True)"
   ]
  },
  {
   "cell_type": "code",
   "execution_count": 10,
   "metadata": {},
   "outputs": [
    {
     "data": {
      "text/html": [
       "<div>\n",
       "<style scoped>\n",
       "    .dataframe tbody tr th:only-of-type {\n",
       "        vertical-align: middle;\n",
       "    }\n",
       "\n",
       "    .dataframe tbody tr th {\n",
       "        vertical-align: top;\n",
       "    }\n",
       "\n",
       "    .dataframe thead th {\n",
       "        text-align: right;\n",
       "    }\n",
       "</style>\n",
       "<table border=\"1\" class=\"dataframe\">\n",
       "  <thead>\n",
       "    <tr style=\"text-align: right;\">\n",
       "      <th></th>\n",
       "      <th>sentence</th>\n",
       "      <th>polarity</th>\n",
       "    </tr>\n",
       "  </thead>\n",
       "  <tbody>\n",
       "    <tr>\n",
       "      <th>0</th>\n",
       "      <td>funny , somber , absurd , and , finally , achi...</td>\n",
       "      <td>1</td>\n",
       "    </tr>\n",
       "    <tr>\n",
       "      <th>1</th>\n",
       "      <td>moore's complex and important film is also , b...</td>\n",
       "      <td>1</td>\n",
       "    </tr>\n",
       "    <tr>\n",
       "      <th>2</th>\n",
       "      <td>[scherfig] has made a movie that will leave yo...</td>\n",
       "      <td>1</td>\n",
       "    </tr>\n",
       "    <tr>\n",
       "      <th>3</th>\n",
       "      <td>the powerful success of read my lips with such...</td>\n",
       "      <td>1</td>\n",
       "    </tr>\n",
       "    <tr>\n",
       "      <th>4</th>\n",
       "      <td>the film is filled with humorous observations ...</td>\n",
       "      <td>1</td>\n",
       "    </tr>\n",
       "    <tr>\n",
       "      <th>5</th>\n",
       "      <td>thanks to haynes' absolute control of the film...</td>\n",
       "      <td>1</td>\n",
       "    </tr>\n",
       "    <tr>\n",
       "      <th>6</th>\n",
       "      <td>really does feel like a short stretched out to...</td>\n",
       "      <td>0</td>\n",
       "    </tr>\n",
       "    <tr>\n",
       "      <th>7</th>\n",
       "      <td>has a customarily jovial air but a deficit of ...</td>\n",
       "      <td>0</td>\n",
       "    </tr>\n",
       "    <tr>\n",
       "      <th>8</th>\n",
       "      <td>as teen movies go , \" orange county \" is a ref...</td>\n",
       "      <td>1</td>\n",
       "    </tr>\n",
       "    <tr>\n",
       "      <th>9</th>\n",
       "      <td>[a] soulless , stupid sequel . . . \\n</td>\n",
       "      <td>0</td>\n",
       "    </tr>\n",
       "  </tbody>\n",
       "</table>\n",
       "</div>"
      ],
      "text/plain": [
       "                                            sentence  polarity\n",
       "0  funny , somber , absurd , and , finally , achi...         1\n",
       "1  moore's complex and important film is also , b...         1\n",
       "2  [scherfig] has made a movie that will leave yo...         1\n",
       "3  the powerful success of read my lips with such...         1\n",
       "4  the film is filled with humorous observations ...         1\n",
       "5  thanks to haynes' absolute control of the film...         1\n",
       "6  really does feel like a short stretched out to...         0\n",
       "7  has a customarily jovial air but a deficit of ...         0\n",
       "8  as teen movies go , \" orange county \" is a ref...         1\n",
       "9              [a] soulless , stupid sequel . . . \\n         0"
      ]
     },
     "execution_count": 10,
     "metadata": {},
     "output_type": "execute_result"
    }
   ],
   "source": [
    "df.head(10)"
   ]
  },
  {
   "cell_type": "code",
   "execution_count": null,
   "metadata": {
    "collapsed": true
   },
   "outputs": [],
   "source": []
  },
  {
   "cell_type": "code",
   "execution_count": 11,
   "metadata": {},
   "outputs": [
    {
     "name": "stdout",
     "output_type": "stream",
     "text": [
      "90th Percentile Sentence Length: 31.0\n"
     ]
    }
   ],
   "source": [
    "# Pre-processing involves removal of puctuations and converting text to lower case\n",
    "word_seq = [text_to_word_sequence(sent) for sent in df['sentence']]\n",
    "print('90th Percentile Sentence Length:', np.percentile([len(seq) for seq in word_seq], 90))"
   ]
  },
  {
   "cell_type": "markdown",
   "metadata": {},
   "source": [
    "<code>Since only 10 percent of the sentences have more than 31 words, we should be safe using MAX_SENT_LEN as 30"
   ]
  },
  {
   "cell_type": "code",
   "execution_count": 12,
   "metadata": {},
   "outputs": [
    {
     "name": "stdout",
     "output_type": "stream",
     "text": [
      "Number of words in vocabulary: 19180\n"
     ]
    }
   ],
   "source": [
    "tokenizer = Tokenizer(num_words=MAX_VOCAB_SIZE)\n",
    "tokenizer.fit_on_texts([' '.join(seq[:MAX_SENT_LEN]) for seq in word_seq])\n",
    "\n",
    "print(\"Number of words in vocabulary:\", len(tokenizer.word_index))"
   ]
  },
  {
   "cell_type": "markdown",
   "metadata": {},
   "source": [
    "<code>The number of unique words are less than our MAX_VOCAB_SIZE limit"
   ]
  },
  {
   "cell_type": "code",
   "execution_count": null,
   "metadata": {},
   "outputs": [],
   "source": [
    "tokenizer.word_index"
   ]
  },
  {
   "cell_type": "code",
   "execution_count": 14,
   "metadata": {
    "collapsed": true
   },
   "outputs": [],
   "source": [
    "# Convert the sequence of words to sequnce of indices\n",
    "X = tokenizer.texts_to_sequences([' '.join(seq[:MAX_SENT_LEN]) for seq in word_seq])\n",
    "X = pad_sequences(X, maxlen=MAX_SENT_LEN, padding='post', truncating='post')\n",
    "\n",
    "y = df['polarity']"
   ]
  },
  {
   "cell_type": "code",
   "execution_count": 15,
   "metadata": {},
   "outputs": [
    {
     "data": {
      "text/plain": [
       "array([[  63, 1961, 1962,    3,  573, 3247,  479, 3248,    6,    2,  398,\n",
       "        2125,  251,    4,  464,    0,    0,    0,    0,    0,    0,    0,\n",
       "           0,    0,    0,    0,    0,    0,    0,    0],\n",
       "       [2126,  524,    3,  596,   13,    6,  138,  429,    9,   39,   23,\n",
       "        3249,  184,    2,  639,    3, 7101,   41,  114,  112,   70,   54,\n",
       "         776,  204,   43,    0,    0,    0,    0,    0],\n",
       "       [4503,   29,   87,    2,   18,    8,   55,  430,   22, 2127,   26,\n",
       "           1, 1354,  439,  185,    1,  291, 1355, 1660,    0,    0,    0,\n",
       "           0,    0,    0,    0,    0,    0,    0,    0]], dtype=int32)"
      ]
     },
     "execution_count": 15,
     "metadata": {},
     "output_type": "execute_result"
    }
   ],
   "source": [
    "X[:3]"
   ]
  },
  {
   "cell_type": "code",
   "execution_count": 16,
   "metadata": {
    "collapsed": true
   },
   "outputs": [],
   "source": [
    "X_train, X_test, y_train, y_test = train_test_split(X, y, random_state=10, test_size=0.1)"
   ]
  },
  {
   "cell_type": "code",
   "execution_count": 17,
   "metadata": {},
   "outputs": [
    {
     "data": {
      "text/plain": [
       "(9595, 30)"
      ]
     },
     "execution_count": 17,
     "metadata": {},
     "output_type": "execute_result"
    }
   ],
   "source": [
    "X_train.shape"
   ]
  },
  {
   "cell_type": "code",
   "execution_count": null,
   "metadata": {
    "collapsed": true
   },
   "outputs": [],
   "source": []
  },
  {
   "cell_type": "code",
   "execution_count": 18,
   "metadata": {},
   "outputs": [
    {
     "name": "stdout",
     "output_type": "stream",
     "text": [
      "CPU times: user 28.2 s, sys: 2.33 s, total: 30.6 s\n",
      "Wall time: 30.1 s\n"
     ]
    }
   ],
   "source": [
    "%%time\n",
    "# Load the word2vec embeddings \n",
    "embeddings = gensim.models.KeyedVectors.load_word2vec_format(W2V_DIR, binary=True)\n",
    "# embeddings = gensim.models.Word2Vec.load(W2V_DIR)"
   ]
  },
  {
   "cell_type": "code",
   "execution_count": 19,
   "metadata": {},
   "outputs": [
    {
     "name": "stdout",
     "output_type": "stream",
     "text": [
      "Number of words in this pre-trained w2v model: 3000000\n",
      "Dimension of w2v: 300\n"
     ]
    }
   ],
   "source": [
    "print('Number of words in this pre-trained w2v model:', len(embeddings.vocab))\n",
    "print('Dimension of w2v:', embeddings.vector_size)"
   ]
  },
  {
   "cell_type": "code",
   "execution_count": 20,
   "metadata": {},
   "outputs": [
    {
     "data": {
      "text/plain": [
       "[('australia', 0.7359464168548584),\n",
       " ('usa', 0.7136157751083374),\n",
       " ('canadian', 0.6989885568618774),\n",
       " ('uk', 0.6821741461753845),\n",
       " ('india', 0.6490967869758606),\n",
       " ('microsoft', 0.628359317779541),\n",
       " ('malaysia', 0.621403694152832),\n",
       " ('turbotax', 0.6093018054962158),\n",
       " ('mexico', 0.6087307929992676),\n",
       " ('ireland', 0.6055780053138733)]"
      ]
     },
     "execution_count": 20,
     "metadata": {},
     "output_type": "execute_result"
    }
   ],
   "source": [
    "embeddings.most_similar('canada')"
   ]
  },
  {
   "cell_type": "code",
   "execution_count": 21,
   "metadata": {},
   "outputs": [
    {
     "data": {
      "text/plain": [
       "[('elephants', 0.7806671857833862),\n",
       " ('rhino', 0.6780353784561157),\n",
       " ('pachyderm', 0.6761020421981812),\n",
       " ('tiger', 0.6681443452835083),\n",
       " ('rhinoceros', 0.6430982351303101),\n",
       " ('tigers', 0.6049249172210693),\n",
       " ('hippo', 0.603914737701416),\n",
       " ('gorilla', 0.5969827175140381),\n",
       " ('giraffe', 0.593181312084198),\n",
       " ('rhinos', 0.5868902802467346)]"
      ]
     },
     "execution_count": 21,
     "metadata": {},
     "output_type": "execute_result"
    }
   ],
   "source": [
    "embeddings.most_similar('elephant')"
   ]
  },
  {
   "cell_type": "code",
   "execution_count": 22,
   "metadata": {},
   "outputs": [
    {
     "data": {
      "text/plain": [
       "'trump'"
      ]
     },
     "execution_count": 22,
     "metadata": {},
     "output_type": "execute_result"
    }
   ],
   "source": [
    "embeddings.doesnt_match('ronaldo messi torres trump'.split(' '))"
   ]
  },
  {
   "cell_type": "code",
   "execution_count": null,
   "metadata": {
    "collapsed": true
   },
   "outputs": [],
   "source": []
  },
  {
   "cell_type": "code",
   "execution_count": 23,
   "metadata": {
    "collapsed": true
   },
   "outputs": [],
   "source": [
    "# Create an embedding matrix containing only the word's in our vocabulary\n",
    "# If the word does not have a pre-trained embedding, then randomly initialize the embedding\n",
    "embeddings_matrix = np.random.uniform(-0.05, 0.05, size=(len(tokenizer.word_index)+1, EMBEDDING_DIM)) # +1 is because the matrix indices start with 0\n",
    "\n",
    "for word, i in tokenizer.word_index.items(): # i=0 is the embedding for the zero padding\n",
    "    try:\n",
    "        embeddings_vector = embeddings[word]\n",
    "    except KeyError:\n",
    "        embeddings_vector = None\n",
    "    if embeddings_vector is not None:\n",
    "        embeddings_matrix[i] = embeddings_vector\n",
    "        \n",
    "del embeddings"
   ]
  },
  {
   "cell_type": "markdown",
   "metadata": {},
   "source": [
    "### Keras Sequential API"
   ]
  },
  {
   "cell_type": "code",
   "execution_count": 24,
   "metadata": {
    "collapsed": true
   },
   "outputs": [],
   "source": [
    "# Build a sequential model by stacking neural net units \n",
    "model = Sequential()\n",
    "model.add(Embedding(input_dim=len(tokenizer.word_index)+1,\n",
    "                          output_dim=EMBEDDING_DIM,\n",
    "                          weights = [embeddings_matrix], trainable=False, name='word_embedding_layer', \n",
    "                          mask_zero=True))\n",
    "\n",
    "model.add(LSTM(LSTM_DIM, return_sequences=False, name='lstm_layer'))\n",
    "\n",
    "model.add(Dense(1, activation='sigmoid', name='output_layer'))"
   ]
  },
  {
   "cell_type": "code",
   "execution_count": 25,
   "metadata": {},
   "outputs": [
    {
     "name": "stdout",
     "output_type": "stream",
     "text": [
      "_________________________________________________________________\n",
      "Layer (type)                 Output Shape              Param #   \n",
      "=================================================================\n",
      "word_embedding_layer (Embedd (None, None, 300)         5754300   \n",
      "_________________________________________________________________\n",
      "lstm_layer (LSTM)            (None, 128)               219648    \n",
      "_________________________________________________________________\n",
      "output_layer (Dense)         (None, 1)                 129       \n",
      "=================================================================\n",
      "Total params: 5,974,077\n",
      "Trainable params: 5,974,077\n",
      "Non-trainable params: 0\n",
      "_________________________________________________________________\n"
     ]
    }
   ],
   "source": [
    "model.summary()"
   ]
  },
  {
   "cell_type": "code",
   "execution_count": 26,
   "metadata": {
    "collapsed": true
   },
   "outputs": [],
   "source": [
    "model.compile(loss='binary_crossentropy',\n",
    "              optimizer='adam',\n",
    "              metrics=['accuracy'])"
   ]
  },
  {
   "cell_type": "code",
   "execution_count": null,
   "metadata": {
    "collapsed": true
   },
   "outputs": [],
   "source": []
  },
  {
   "cell_type": "code",
   "execution_count": 27,
   "metadata": {},
   "outputs": [
    {
     "name": "stdout",
     "output_type": "stream",
     "text": [
      "Train on 9595 samples, validate on 1067 samples\n",
      "Epoch 1/10\n",
      "9595/9595 [==============================] - 22s - loss: 0.4982 - acc: 0.7507 - val_loss: 0.4128 - val_acc: 0.8088\n",
      "Epoch 2/10\n",
      "9595/9595 [==============================] - 18s - loss: 0.2705 - acc: 0.8928 - val_loss: 0.4367 - val_acc: 0.7882\n",
      "Epoch 3/10\n",
      "9595/9595 [==============================] - 19s - loss: 0.1164 - acc: 0.9576 - val_loss: 0.6114 - val_acc: 0.7948\n",
      "Epoch 4/10\n",
      "9595/9595 [==============================] - 20s - loss: 0.0455 - acc: 0.9847 - val_loss: 0.6859 - val_acc: 0.7919\n",
      "Epoch 5/10\n",
      "9595/9595 [==============================] - 21s - loss: 0.0272 - acc: 0.9911 - val_loss: 0.8921 - val_acc: 0.7863\n",
      "Epoch 6/10\n",
      "9595/9595 [==============================] - 21s - loss: 0.0126 - acc: 0.9959 - val_loss: 1.2126 - val_acc: 0.7666\n",
      "Epoch 7/10\n",
      "9595/9595 [==============================] - 21s - loss: 0.0088 - acc: 0.9974 - val_loss: 1.1048 - val_acc: 0.7751\n",
      "Epoch 8/10\n",
      "9595/9595 [==============================] - 21s - loss: 0.0058 - acc: 0.9980 - val_loss: 1.2941 - val_acc: 0.7685\n",
      "Epoch 9/10\n",
      "9595/9595 [==============================] - 21s - loss: 0.0093 - acc: 0.9970 - val_loss: 1.2836 - val_acc: 0.7723\n",
      "Epoch 10/10\n",
      "9595/9595 [==============================] - 21s - loss: 0.0035 - acc: 0.9990 - val_loss: 1.4373 - val_acc: 0.7769\n"
     ]
    },
    {
     "data": {
      "text/plain": [
       "<keras.callbacks.History at 0x7fe515f7e0f0>"
      ]
     },
     "execution_count": 27,
     "metadata": {},
     "output_type": "execute_result"
    }
   ],
   "source": [
    "model.fit(X_train, y_train,\n",
    "          batch_size=BATCH_SIZE,\n",
    "          epochs=N_EPOCHS,\n",
    "          validation_data=(X_test, y_test))"
   ]
  },
  {
   "cell_type": "code",
   "execution_count": 31,
   "metadata": {},
   "outputs": [
    {
     "name": "stdout",
     "output_type": "stream",
     "text": [
      "1067/1067 [==============================] - 0s     \n"
     ]
    }
   ],
   "source": [
    "score, acc = model.evaluate(X_test, y_test,\n",
    "                            batch_size=BATCH_SIZE)"
   ]
  },
  {
   "cell_type": "code",
   "execution_count": 32,
   "metadata": {},
   "outputs": [
    {
     "name": "stdout",
     "output_type": "stream",
     "text": [
      "Accuracy on Test Set = 0.777\n"
     ]
    }
   ],
   "source": [
    "print(\"Accuracy on Test Set = {0:4.3f}\".format(acc))"
   ]
  },
  {
   "cell_type": "code",
   "execution_count": 33,
   "metadata": {},
   "outputs": [
    {
     "data": {
      "image/png": "[encoded data removed]",
      "text/plain": [
       "<IPython.core.display.Image object>"
      ]
     },
     "execution_count": 33,
     "metadata": {},
     "output_type": "execute_result"
    }
   ],
   "source": [
    "plot_model(model, to_file='basic_lstm_classifier.png', show_layer_names=True, show_shapes=True)\n",
    "Image('basic_lstm_classifier.png')"
   ]
  },
  {
   "cell_type": "code",
   "execution_count": null,
   "metadata": {
    "collapsed": true
   },
   "outputs": [],
   "source": []
  },
  {
   "cell_type": "markdown",
   "metadata": {
    "collapsed": true
   },
   "source": [
    "<code>Modify the network by adding two more Dense layers with Batch-Normalization and Dropouts:"
   ]
  },
  {
   "cell_type": "code",
   "execution_count": 34,
   "metadata": {},
   "outputs": [
    {
     "name": "stdout",
     "output_type": "stream",
     "text": [
      "_________________________________________________________________\n",
      "Layer (type)                 Output Shape              Param #   \n",
      "=================================================================\n",
      "word_embedding_layer (Embedd (None, None, 300)         5754300   \n",
      "_________________________________________________________________\n",
      "lstm_layer (LSTM)            (None, 128)               219648    \n",
      "_________________________________________________________________\n",
      "dense_1 (Dense)              (None, 32)                4128      \n",
      "_________________________________________________________________\n",
      "dropout_1 (Dropout)          (None, 32)                0         \n",
      "_________________________________________________________________\n",
      "activation_1 (Activation)    (None, 32)                0         \n",
      "_________________________________________________________________\n",
      "dense_2 (Dense)              (None, 8)                 264       \n",
      "_________________________________________________________________\n",
      "dropout_2 (Dropout)          (None, 8)                 0         \n",
      "_________________________________________________________________\n",
      "activation_2 (Activation)    (None, 8)                 0         \n",
      "_________________________________________________________________\n",
      "output_layer (Dense)         (None, 1)                 9         \n",
      "=================================================================\n",
      "Total params: 5,978,349\n",
      "Trainable params: 224,049\n",
      "Non-trainable params: 5,754,300\n",
      "_________________________________________________________________\n"
     ]
    }
   ],
   "source": [
    "# Build a sequential model by stacking neural net units \n",
    "model = Sequential()\n",
    "model.add(Embedding(input_dim=len(tokenizer.word_index)+1,\n",
    "                          output_dim=EMBEDDING_DIM,\n",
    "                          weights = [embeddings_matrix], trainable=False, name='word_embedding_layer', \n",
    "                          mask_zero=True)) # trainable=True results in overfitting\n",
    "\n",
    "model.add(LSTM(LSTM_DIM, return_sequences=False, name='lstm_layer')) # Can try Bidirectional-LSTM\n",
    "\n",
    "model.add(Dense(32, name='dense_1'))\n",
    "# model.add(BatchNormalization(name='bn_1')) # BN did not really help with performance \n",
    "model.add(Dropout(rate=0.3, name='dropout_1')) # Can try varying dropout rates\n",
    "model.add(Activation(activation='relu', name='activation_1'))\n",
    "\n",
    "model.add(Dense(8, name='dense_2'))\n",
    "# model.add(BatchNormalization(name='bn_2'))\n",
    "model.add(Dropout(rate=0.3, name='dropout_2'))\n",
    "model.add(Activation(activation='relu', name='activation_2'))\n",
    "\n",
    "model.add(Dense(1, activation='sigmoid', name='output_layer'))\n",
    "model.summary()"
   ]
  },
  {
   "cell_type": "code",
   "execution_count": 35,
   "metadata": {
    "collapsed": true
   },
   "outputs": [],
   "source": [
    "model.compile(loss='binary_crossentropy',\n",
    "              optimizer='adam',\n",
    "              metrics=['accuracy'])"
   ]
  },
  {
   "cell_type": "code",
   "execution_count": 36,
   "metadata": {},
   "outputs": [
    {
     "name": "stdout",
     "output_type": "stream",
     "text": [
      "Train on 9595 samples, validate on 1067 samples\n",
      "Epoch 1/10\n",
      "9595/9595 [==============================] - 22s - loss: 0.5763 - acc: 0.7061 - val_loss: 0.4798 - val_acc: 0.7563\n",
      "Epoch 2/10\n",
      "9595/9595 [==============================] - 21s - loss: 0.4929 - acc: 0.7762 - val_loss: 0.4452 - val_acc: 0.7826\n",
      "Epoch 3/10\n",
      "9595/9595 [==============================] - 21s - loss: 0.4634 - acc: 0.7917 - val_loss: 0.4570 - val_acc: 0.7854\n",
      "Epoch 4/10\n",
      "9595/9595 [==============================] - 21s - loss: 0.4319 - acc: 0.8101 - val_loss: 0.4359 - val_acc: 0.7863\n",
      "Epoch 5/10\n",
      "9595/9595 [==============================] - 21s - loss: 0.4054 - acc: 0.8201 - val_loss: 0.4572 - val_acc: 0.7732\n",
      "Epoch 6/10\n",
      "9595/9595 [==============================] - 21s - loss: 0.3823 - acc: 0.8351 - val_loss: 0.4475 - val_acc: 0.7948\n",
      "Epoch 7/10\n",
      "9595/9595 [==============================] - 21s - loss: 0.3502 - acc: 0.8508 - val_loss: 0.4525 - val_acc: 0.7891\n",
      "Epoch 8/10\n",
      "9595/9595 [==============================] - 21s - loss: 0.3210 - acc: 0.8617 - val_loss: 0.4865 - val_acc: 0.8069\n",
      "Epoch 9/10\n",
      "9595/9595 [==============================] - 21s - loss: 0.2782 - acc: 0.8788 - val_loss: 0.5163 - val_acc: 0.8041\n",
      "Epoch 10/10\n",
      "9595/9595 [==============================] - 21s - loss: 0.2486 - acc: 0.8938 - val_loss: 0.5930 - val_acc: 0.7891\n"
     ]
    },
    {
     "data": {
      "text/plain": [
       "<keras.callbacks.History at 0x7fe52a3f5710>"
      ]
     },
     "execution_count": 36,
     "metadata": {},
     "output_type": "execute_result"
    }
   ],
   "source": [
    "model.fit(X_train, y_train,\n",
    "          batch_size=BATCH_SIZE,\n",
    "          epochs=N_EPOCHS,\n",
    "          validation_data=(X_test, y_test))"
   ]
  },
  {
   "cell_type": "code",
   "execution_count": 37,
   "metadata": {},
   "outputs": [
    {
     "data": {
      "image/png": "[encoded data removed]",
      "text/plain": [
       "<IPython.core.display.Image object>"
      ]
     },
     "execution_count": 37,
     "metadata": {},
     "output_type": "execute_result"
    }
   ],
   "source": [
    "plot_model(model, to_file='modified_lstm_classifier.png', show_layer_names=True)\n",
    "Image('modified_lstm_classifier.png')"
   ]
  },
  {
   "cell_type": "code",
   "execution_count": null,
   "metadata": {
    "collapsed": true
   },
   "outputs": [],
   "source": []
  },
  {
   "cell_type": "code",
   "execution_count": null,
   "metadata": {
    "collapsed": true
   },
   "outputs": [],
   "source": []
  },
  {
   "cell_type": "code",
   "execution_count": null,
   "metadata": {
    "collapsed": true
   },
   "outputs": [],
   "source": []
  }
 ],
 "metadata": {
  "kernelspec": {
   "display_name": "Python 3",
   "language": "python",
   "name": "python3"
  },
  "language_info": {
   "codemirror_mode": {
    "name": "ipython",
    "version": 3
   },
   "file_extension": ".py",
   "mimetype": "text/x-python",
   "name": "python",
   "nbconvert_exporter": "python",
   "pygments_lexer": "ipython3",
   "version": "3.6.1"
  }
 },
 "nbformat": 4,
 "nbformat_minor": 2
}
