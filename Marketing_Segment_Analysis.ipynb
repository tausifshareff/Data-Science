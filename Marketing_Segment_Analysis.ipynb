{
  "nbformat": 4,
  "nbformat_minor": 0,
  "metadata": {
    "colab": {
      "name": "Marketing Segment Analysis.ipynb",
      "version": "0.3.2",
      "provenance": [],
      "collapsed_sections": [],
      "include_colab_link": true
    },
    "kernelspec": {
      "name": "python3",
      "display_name": "Python 3"
    }
  },
  "cells": [
    {
      "cell_type": "markdown",
      "metadata": {
        "id": "view-in-github",
        "colab_type": "text"
      },
      "source": [
        "<a href=\"https://colab.research.google.com/github/tausifshareff/Data-Science/blob/master/Marketing_Segment_Analysis.ipynb\" target=\"_parent\"><img src=\"https://colab.research.google.com/assets/colab-badge.svg\" alt=\"Open In Colab\"/></a>"
      ]
    },
    {
      "cell_type": "markdown",
      "metadata": {
        "id": "XtuHJBCxpllz",
        "colab_type": "text"
      },
      "source": [
        "# Initialize"
      ]
    },
    {
      "cell_type": "code",
      "metadata": {
        "id": "zcEDG3J0wejf",
        "colab_type": "code",
        "colab": {}
      },
      "source": [
        "import pandas as pd\n",
        "import numpy as np\n",
        "import seaborn as sns\n",
        "import matplotlib.pyplot as plt\n",
        "import datetime\n",
        "from IPython.core.interactiveshell import InteractiveShell\n",
        "InteractiveShell.ast_node_interactivity = \"all\""
      ],
      "execution_count": 0,
      "outputs": []
    },
    {
      "cell_type": "markdown",
      "metadata": {
        "id": "kXhP7Jc7RF2i",
        "colab_type": "text"
      },
      "source": [
        "Loading the datasets from all 4 sheets"
      ]
    },
    {
      "cell_type": "code",
      "metadata": {
        "id": "aRYxhFbBQ-x7",
        "colab_type": "code",
        "colab": {}
      },
      "source": [
        "customer_segment = pd.read_excel(\"drive/Colab Notebooks/ThinkRobots 2019.xlsx\", sheet_name=\"Customer Segments\")\n",
        "customer_names = pd.read_excel(\"drive/Colab Notebooks/ThinkRobots 2019.xlsx\", sheet_name=\"Customer Names\")\n",
        "billing_status = pd.read_excel(\"drive/Colab Notebooks/ThinkRobots 2019.xlsx\", sheet_name=\"Billing Status\")\n",
        "maj_prod_change = pd.read_excel(\"drive/Colab Notebooks/ThinkRobots 2019.xlsx\", sheet_name=\"Major Product Changes\")"
      ],
      "execution_count": 0,
      "outputs": []
    },
    {
      "cell_type": "markdown",
      "metadata": {
        "id": "b19ZJtUvpwAN",
        "colab_type": "text"
      },
      "source": [
        "# Describe Data"
      ]
    },
    {
      "cell_type": "markdown",
      "metadata": {
        "id": "-jxVG9mNRbBp",
        "colab_type": "text"
      },
      "source": [
        "We need to read the initial data"
      ]
    },
    {
      "cell_type": "code",
      "metadata": {
        "id": "AyW2Os8bRT2h",
        "colab_type": "code",
        "outputId": "ebe5b3a6-897e-403e-e02b-8e2e5506ec57",
        "colab": {
          "base_uri": "https://localhost:8080/",
          "height": 238
        }
      },
      "source": [
        "customer_segment.head()\n",
        "print(\"Shape of the customer_segment: \")\n",
        "customer_segment.shape"
      ],
      "execution_count": 0,
      "outputs": [
        {
          "output_type": "execute_result",
          "data": {
            "text/html": [
              "<div>\n",
              "<style scoped>\n",
              "    .dataframe tbody tr th:only-of-type {\n",
              "        vertical-align: middle;\n",
              "    }\n",
              "\n",
              "    .dataframe tbody tr th {\n",
              "        vertical-align: top;\n",
              "    }\n",
              "\n",
              "    .dataframe thead th {\n",
              "        text-align: right;\n",
              "    }\n",
              "</style>\n",
              "<table border=\"1\" class=\"dataframe\">\n",
              "  <thead>\n",
              "    <tr style=\"text-align: right;\">\n",
              "      <th></th>\n",
              "      <th>Customer ID</th>\n",
              "      <th>Free Account Created Date</th>\n",
              "      <th>Last Seen</th>\n",
              "      <th>Session Count</th>\n",
              "      <th>Segment</th>\n",
              "      <th>Billing Account #</th>\n",
              "    </tr>\n",
              "  </thead>\n",
              "  <tbody>\n",
              "    <tr>\n",
              "      <th>0</th>\n",
              "      <td>1</td>\n",
              "      <td>2017-05-29</td>\n",
              "      <td>2019-04-05 08:02:32</td>\n",
              "      <td>1379</td>\n",
              "      <td>Marketing Segment 2</td>\n",
              "      <td>AX#93195</td>\n",
              "    </tr>\n",
              "    <tr>\n",
              "      <th>1</th>\n",
              "      <td>2</td>\n",
              "      <td>2017-12-17</td>\n",
              "      <td>2019-04-27 13:23:56</td>\n",
              "      <td>531</td>\n",
              "      <td>Marketing Segment 1</td>\n",
              "      <td>AX#20438</td>\n",
              "    </tr>\n",
              "    <tr>\n",
              "      <th>2</th>\n",
              "      <td>3</td>\n",
              "      <td>2017-01-30</td>\n",
              "      <td>2019-04-22 15:38:09</td>\n",
              "      <td>317</td>\n",
              "      <td>Marketing Segment 1</td>\n",
              "      <td>AX#60779</td>\n",
              "    </tr>\n",
              "    <tr>\n",
              "      <th>3</th>\n",
              "      <td>4</td>\n",
              "      <td>2017-02-03</td>\n",
              "      <td>2019-04-23 16:30:46</td>\n",
              "      <td>349</td>\n",
              "      <td>Marketing Segment 1</td>\n",
              "      <td>AX#91209</td>\n",
              "    </tr>\n",
              "    <tr>\n",
              "      <th>4</th>\n",
              "      <td>5</td>\n",
              "      <td>2017-03-18</td>\n",
              "      <td>2019-04-05 13:16:33</td>\n",
              "      <td>1158</td>\n",
              "      <td>Marketing Segment 2</td>\n",
              "      <td>AX#57000</td>\n",
              "    </tr>\n",
              "  </tbody>\n",
              "</table>\n",
              "</div>"
            ],
            "text/plain": [
              "   Customer ID Free Account Created Date           Last Seen  Session Count  \\\n",
              "0            1                2017-05-29 2019-04-05 08:02:32           1379   \n",
              "1            2                2017-12-17 2019-04-27 13:23:56            531   \n",
              "2            3                2017-01-30 2019-04-22 15:38:09            317   \n",
              "3            4                2017-02-03 2019-04-23 16:30:46            349   \n",
              "4            5                2017-03-18 2019-04-05 13:16:33           1158   \n",
              "\n",
              "               Segment Billing Account #  \n",
              "0  Marketing Segment 2          AX#93195  \n",
              "1  Marketing Segment 1          AX#20438  \n",
              "2  Marketing Segment 1          AX#60779  \n",
              "3  Marketing Segment 1          AX#91209  \n",
              "4  Marketing Segment 2          AX#57000  "
            ]
          },
          "metadata": {
            "tags": []
          },
          "execution_count": 3
        },
        {
          "output_type": "stream",
          "text": [
            "Shape of the customer_segment: \n"
          ],
          "name": "stdout"
        },
        {
          "output_type": "execute_result",
          "data": {
            "text/plain": [
              "(1000, 6)"
            ]
          },
          "metadata": {
            "tags": []
          },
          "execution_count": 3
        }
      ]
    },
    {
      "cell_type": "code",
      "metadata": {
        "id": "Pzg8wE3cRmYM",
        "colab_type": "code",
        "outputId": "c5df514b-5544-4d83-8d9a-64f2d685b47e",
        "colab": {
          "base_uri": "https://localhost:8080/",
          "height": 68
        }
      },
      "source": [
        "# Print number of unique customer IDs\n",
        "customer_segment[['Customer ID']].nunique()\n",
        "# Print number of unique \n",
        "customer_segment[['Billing Account #']].nunique()"
      ],
      "execution_count": 0,
      "outputs": [
        {
          "output_type": "execute_result",
          "data": {
            "text/plain": [
              "Customer ID    1000\n",
              "dtype: int64"
            ]
          },
          "metadata": {
            "tags": []
          },
          "execution_count": 4
        },
        {
          "output_type": "execute_result",
          "data": {
            "text/plain": [
              "Billing Account #    993\n",
              "dtype: int64"
            ]
          },
          "metadata": {
            "tags": []
          },
          "execution_count": 4
        }
      ]
    },
    {
      "cell_type": "markdown",
      "metadata": {
        "id": "i6kf9shDUaf-",
        "colab_type": "text"
      },
      "source": [
        "We seen that there are 7 customers that are using a billing accounts that are already used by some other customer."
      ]
    },
    {
      "cell_type": "markdown",
      "metadata": {
        "id": "TELufLSAp-qa",
        "colab_type": "text"
      },
      "source": [
        "# Question 1\n",
        "### Which of the existing marketing segments is the most effective? "
      ]
    },
    {
      "cell_type": "code",
      "metadata": {
        "id": "LxzPIWS4SW9g",
        "colab_type": "code",
        "colab": {}
      },
      "source": [
        "segment = customer_segment.groupby('Segment').sum()\n",
        "segment = segment.drop('Customer ID', axis = 1)"
      ],
      "execution_count": 0,
      "outputs": []
    },
    {
      "cell_type": "code",
      "metadata": {
        "id": "zxUdD4AdcXTG",
        "colab_type": "code",
        "outputId": "f4161d27-7eda-4487-fed4-f14916f8b01b",
        "colab": {
          "base_uri": "https://localhost:8080/",
          "height": 173
        }
      },
      "source": [
        "segment"
      ],
      "execution_count": 0,
      "outputs": [
        {
          "output_type": "execute_result",
          "data": {
            "text/html": [
              "<div>\n",
              "<style scoped>\n",
              "    .dataframe tbody tr th:only-of-type {\n",
              "        vertical-align: middle;\n",
              "    }\n",
              "\n",
              "    .dataframe tbody tr th {\n",
              "        vertical-align: top;\n",
              "    }\n",
              "\n",
              "    .dataframe thead th {\n",
              "        text-align: right;\n",
              "    }\n",
              "</style>\n",
              "<table border=\"1\" class=\"dataframe\">\n",
              "  <thead>\n",
              "    <tr style=\"text-align: right;\">\n",
              "      <th></th>\n",
              "      <th>Session Count</th>\n",
              "    </tr>\n",
              "    <tr>\n",
              "      <th>Segment</th>\n",
              "      <th></th>\n",
              "    </tr>\n",
              "  </thead>\n",
              "  <tbody>\n",
              "    <tr>\n",
              "      <th>Marketing Segment 1</th>\n",
              "      <td>93141</td>\n",
              "    </tr>\n",
              "    <tr>\n",
              "      <th>Marketing Segment 2</th>\n",
              "      <td>177972</td>\n",
              "    </tr>\n",
              "    <tr>\n",
              "      <th>Marketing Segment 3</th>\n",
              "      <td>39862</td>\n",
              "    </tr>\n",
              "  </tbody>\n",
              "</table>\n",
              "</div>"
            ],
            "text/plain": [
              "                     Session Count\n",
              "Segment                           \n",
              "Marketing Segment 1          93141\n",
              "Marketing Segment 2         177972\n",
              "Marketing Segment 3          39862"
            ]
          },
          "metadata": {
            "tags": []
          },
          "execution_count": 6
        }
      ]
    },
    {
      "cell_type": "code",
      "metadata": {
        "id": "n4HaLd-dc8IC",
        "colab_type": "code",
        "outputId": "47a3f938-85d2-41ed-8629-4f2abc6feb61",
        "colab": {
          "base_uri": "https://localhost:8080/",
          "height": 380
        }
      },
      "source": [
        "seg_label = np.array(segment.index)\n",
        "sessions = segment.iloc[:, 0]\n",
        "pos = range(len(segment.index))\n",
        "\n",
        "plt.bar(pos, sessions, align = 'center')\n",
        "plt.xticks(pos, seg_label)\n",
        "plt.title(\"Marketing Segments v/s Session Counts\")\n",
        "plt.xlabel(\"Segments\")\n",
        "plt.ylabel(\"Session Counts\")\n",
        "plt.show()\n",
        "plt.savefig(\"drive/Colab Notebooks/segment_session.png\")"
      ],
      "execution_count": 0,
      "outputs": [
        {
          "output_type": "execute_result",
          "data": {
            "text/plain": [
              "<BarContainer object of 3 artists>"
            ]
          },
          "metadata": {
            "tags": []
          },
          "execution_count": 7
        },
        {
          "output_type": "execute_result",
          "data": {
            "text/plain": [
              "([<matplotlib.axis.XTick at 0x7f4dbc2b3470>,\n",
              "  <matplotlib.axis.XTick at 0x7f4dbc2b3a90>,\n",
              "  <matplotlib.axis.XTick at 0x7f4dbc2b3c50>],\n",
              " <a list of 3 Text xticklabel objects>)"
            ]
          },
          "metadata": {
            "tags": []
          },
          "execution_count": 7
        },
        {
          "output_type": "execute_result",
          "data": {
            "text/plain": [
              "Text(0.5, 1.0, 'Marketing Segments v/s Session Counts')"
            ]
          },
          "metadata": {
            "tags": []
          },
          "execution_count": 7
        },
        {
          "output_type": "execute_result",
          "data": {
            "text/plain": [
              "Text(0.5, 0, 'Segments')"
            ]
          },
          "metadata": {
            "tags": []
          },
          "execution_count": 7
        },
        {
          "output_type": "execute_result",
          "data": {
            "text/plain": [
              "Text(0, 0.5, 'Session Counts')"
            ]
          },
          "metadata": {
            "tags": []
          },
          "execution_count": 7
        },
        {
          "output_type": "display_data",
          "data": {
            "image/png": "[encoded data removed]",
            "text/plain": [
              "<Figure size 432x288 with 1 Axes>"
            ]
          },
          "metadata": {
            "tags": []
          }
        },
        {
          "output_type": "display_data",
          "data": {
            "text/plain": [
              "<Figure size 432x288 with 0 Axes>"
            ]
          },
          "metadata": {
            "tags": []
          }
        }
      ]
    },
    {
      "cell_type": "markdown",
      "metadata": {
        "id": "goskoPvdW8sG",
        "colab_type": "text"
      },
      "source": [
        "By simply looking at the Session Counts for every marketing segment, we can say that Marketing Segment 2 is the most effective. However it does not give such a clear picture. There are other factors that need to be considered like ROMI (Return On Marketing Investing).\n",
        "\n",
        "We need to ask if the marketing segment really is profitable?"
      ]
    },
    {
      "cell_type": "code",
      "metadata": {
        "id": "W0G8kIP6dtFf",
        "colab_type": "code",
        "colab": {}
      },
      "source": [
        "# merging billing_status and customer_segment\n",
        "customer_romi = pd.merge(customer_segment, billing_status, on = 'Billing Account #')"
      ],
      "execution_count": 0,
      "outputs": []
    },
    {
      "cell_type": "code",
      "metadata": {
        "id": "CxGlmAcQYpEF",
        "colab_type": "code",
        "outputId": "15626738-ff70-4607-ee17-402f8b3d7653",
        "colab": {
          "base_uri": "https://localhost:8080/",
          "height": 561
        }
      },
      "source": [
        "customer_romi.head()\n",
        "customer_romi.info()"
      ],
      "execution_count": 0,
      "outputs": [
        {
          "output_type": "execute_result",
          "data": {
            "text/html": [
              "<div>\n",
              "<style scoped>\n",
              "    .dataframe tbody tr th:only-of-type {\n",
              "        vertical-align: middle;\n",
              "    }\n",
              "\n",
              "    .dataframe tbody tr th {\n",
              "        vertical-align: top;\n",
              "    }\n",
              "\n",
              "    .dataframe thead th {\n",
              "        text-align: right;\n",
              "    }\n",
              "</style>\n",
              "<table border=\"1\" class=\"dataframe\">\n",
              "  <thead>\n",
              "    <tr style=\"text-align: right;\">\n",
              "      <th></th>\n",
              "      <th>Customer ID</th>\n",
              "      <th>Free Account Created Date</th>\n",
              "      <th>Last Seen</th>\n",
              "      <th>Session Count</th>\n",
              "      <th>Segment</th>\n",
              "      <th>Billing Account #</th>\n",
              "      <th>Account Status</th>\n",
              "      <th>Upgraded Account Created Date</th>\n",
              "      <th>Upgraded Account Cancelled Date</th>\n",
              "      <th>Total Charges</th>\n",
              "    </tr>\n",
              "  </thead>\n",
              "  <tbody>\n",
              "    <tr>\n",
              "      <th>0</th>\n",
              "      <td>1</td>\n",
              "      <td>2017-05-29</td>\n",
              "      <td>2019-04-05 08:02:32</td>\n",
              "      <td>1379</td>\n",
              "      <td>Marketing Segment 2</td>\n",
              "      <td>AX#93195</td>\n",
              "      <td>paying</td>\n",
              "      <td>2019-04-02</td>\n",
              "      <td>NaT</td>\n",
              "      <td>145.600000</td>\n",
              "    </tr>\n",
              "    <tr>\n",
              "      <th>1</th>\n",
              "      <td>2</td>\n",
              "      <td>2017-12-17</td>\n",
              "      <td>2019-04-27 13:23:56</td>\n",
              "      <td>531</td>\n",
              "      <td>Marketing Segment 1</td>\n",
              "      <td>AX#20438</td>\n",
              "      <td>paying</td>\n",
              "      <td>2018-11-11</td>\n",
              "      <td>NaT</td>\n",
              "      <td>728.000000</td>\n",
              "    </tr>\n",
              "    <tr>\n",
              "      <th>2</th>\n",
              "      <td>3</td>\n",
              "      <td>2017-01-30</td>\n",
              "      <td>2019-04-22 15:38:09</td>\n",
              "      <td>317</td>\n",
              "      <td>Marketing Segment 1</td>\n",
              "      <td>AX#60779</td>\n",
              "      <td>paying</td>\n",
              "      <td>2019-03-15</td>\n",
              "      <td>NaT</td>\n",
              "      <td>277.200000</td>\n",
              "    </tr>\n",
              "    <tr>\n",
              "      <th>3</th>\n",
              "      <td>4</td>\n",
              "      <td>2017-02-03</td>\n",
              "      <td>2019-04-23 16:30:46</td>\n",
              "      <td>349</td>\n",
              "      <td>Marketing Segment 1</td>\n",
              "      <td>AX#91209</td>\n",
              "      <td>paying</td>\n",
              "      <td>2019-03-24</td>\n",
              "      <td>NaT</td>\n",
              "      <td>292.833333</td>\n",
              "    </tr>\n",
              "    <tr>\n",
              "      <th>4</th>\n",
              "      <td>5</td>\n",
              "      <td>2017-03-18</td>\n",
              "      <td>2019-04-05 13:16:33</td>\n",
              "      <td>1158</td>\n",
              "      <td>Marketing Segment 2</td>\n",
              "      <td>AX#57000</td>\n",
              "      <td>paying</td>\n",
              "      <td>2018-10-12</td>\n",
              "      <td>NaT</td>\n",
              "      <td>462.000000</td>\n",
              "    </tr>\n",
              "  </tbody>\n",
              "</table>\n",
              "</div>"
            ],
            "text/plain": [
              "   Customer ID Free Account Created Date           Last Seen  Session Count  \\\n",
              "0            1                2017-05-29 2019-04-05 08:02:32           1379   \n",
              "1            2                2017-12-17 2019-04-27 13:23:56            531   \n",
              "2            3                2017-01-30 2019-04-22 15:38:09            317   \n",
              "3            4                2017-02-03 2019-04-23 16:30:46            349   \n",
              "4            5                2017-03-18 2019-04-05 13:16:33           1158   \n",
              "\n",
              "               Segment Billing Account # Account Status  \\\n",
              "0  Marketing Segment 2          AX#93195         paying   \n",
              "1  Marketing Segment 1          AX#20438         paying   \n",
              "2  Marketing Segment 1          AX#60779         paying   \n",
              "3  Marketing Segment 1          AX#91209         paying   \n",
              "4  Marketing Segment 2          AX#57000         paying   \n",
              "\n",
              "  Upgraded Account Created Date Upgraded Account Cancelled Date  Total Charges  \n",
              "0                    2019-04-02                             NaT     145.600000  \n",
              "1                    2018-11-11                             NaT     728.000000  \n",
              "2                    2019-03-15                             NaT     277.200000  \n",
              "3                    2019-03-24                             NaT     292.833333  \n",
              "4                    2018-10-12                             NaT     462.000000  "
            ]
          },
          "metadata": {
            "tags": []
          },
          "execution_count": 9
        },
        {
          "output_type": "stream",
          "text": [
            "<class 'pandas.core.frame.DataFrame'>\n",
            "Int64Index: 1014 entries, 0 to 1013\n",
            "Data columns (total 10 columns):\n",
            "Customer ID                        1014 non-null int64\n",
            "Free Account Created Date          1014 non-null datetime64[ns]\n",
            "Last Seen                          1014 non-null datetime64[ns]\n",
            "Session Count                      1014 non-null int64\n",
            "Segment                            1014 non-null object\n",
            "Billing Account #                  1014 non-null object\n",
            "Account Status                     1014 non-null object\n",
            "Upgraded Account Created Date      1014 non-null datetime64[ns]\n",
            "Upgraded Account Cancelled Date    123 non-null datetime64[ns]\n",
            "Total Charges                      1014 non-null float64\n",
            "dtypes: datetime64[ns](4), float64(1), int64(2), object(3)\n",
            "memory usage: 87.1+ KB\n"
          ],
          "name": "stdout"
        }
      ]
    },
    {
      "cell_type": "code",
      "metadata": {
        "id": "REYN4N7vPbJb",
        "colab_type": "code",
        "outputId": "1c95b786-8d05-43ae-e2eb-af6800a6a3d8",
        "colab": {
          "base_uri": "https://localhost:8080/",
          "height": 34
        }
      },
      "source": [
        "type(pd._libs.tslibs.nattype.NaT)"
      ],
      "execution_count": 0,
      "outputs": [
        {
          "output_type": "execute_result",
          "data": {
            "text/plain": [
              "pandas._libs.tslibs.nattype.NaTType"
            ]
          },
          "metadata": {
            "tags": []
          },
          "execution_count": 10
        }
      ]
    },
    {
      "cell_type": "markdown",
      "metadata": {
        "id": "Fv_4VVV-BI4N",
        "colab_type": "text"
      },
      "source": [
        "We see that there are additional 14 **Billing Account #** that weren't account for by Customer Segment table."
      ]
    },
    {
      "cell_type": "code",
      "metadata": {
        "id": "3ZFY7M5NYsLU",
        "colab_type": "code",
        "outputId": "c947a03f-3b14-4146-a47c-d3ec46ac0d91",
        "colab": {
          "base_uri": "https://localhost:8080/",
          "height": 536
        }
      },
      "source": [
        "pd.options.display.float_format = '{:,.2f}'.format\n",
        "profit = customer_romi.groupby(['Segment']).sum()\n",
        "profit.drop(['Customer ID', 'Session Count'], axis = 1)\n",
        "\n",
        "seg_label = np.array(profit.index)\n",
        "charges = profit.iloc[:, 2]\n",
        "pos = range(len(profit.index))\n",
        "\n",
        "plt.bar(pos, charges, align = 'center', color = 'green')\n",
        "plt.xticks(pos, seg_label)\n",
        "plt.title(\"Marketing Segments v/s Total Charges\")\n",
        "plt.xlabel(\"Segments\")\n",
        "plt.ylabel(\"Total Charges\")\n",
        "plt.show()\n",
        "plt.savefig(\"drive/Colab Notebooks/segment_totcharge.png\")"
      ],
      "execution_count": 0,
      "outputs": [
        {
          "output_type": "execute_result",
          "data": {
            "text/html": [
              "<div>\n",
              "<style scoped>\n",
              "    .dataframe tbody tr th:only-of-type {\n",
              "        vertical-align: middle;\n",
              "    }\n",
              "\n",
              "    .dataframe tbody tr th {\n",
              "        vertical-align: top;\n",
              "    }\n",
              "\n",
              "    .dataframe thead th {\n",
              "        text-align: right;\n",
              "    }\n",
              "</style>\n",
              "<table border=\"1\" class=\"dataframe\">\n",
              "  <thead>\n",
              "    <tr style=\"text-align: right;\">\n",
              "      <th></th>\n",
              "      <th>Total Charges</th>\n",
              "    </tr>\n",
              "    <tr>\n",
              "      <th>Segment</th>\n",
              "      <th></th>\n",
              "    </tr>\n",
              "  </thead>\n",
              "  <tbody>\n",
              "    <tr>\n",
              "      <th>Marketing Segment 1</th>\n",
              "      <td>172,857.37</td>\n",
              "    </tr>\n",
              "    <tr>\n",
              "      <th>Marketing Segment 2</th>\n",
              "      <td>230,341.37</td>\n",
              "    </tr>\n",
              "    <tr>\n",
              "      <th>Marketing Segment 3</th>\n",
              "      <td>165,500.03</td>\n",
              "    </tr>\n",
              "  </tbody>\n",
              "</table>\n",
              "</div>"
            ],
            "text/plain": [
              "                     Total Charges\n",
              "Segment                           \n",
              "Marketing Segment 1     172,857.37\n",
              "Marketing Segment 2     230,341.37\n",
              "Marketing Segment 3     165,500.03"
            ]
          },
          "metadata": {
            "tags": []
          },
          "execution_count": 11
        },
        {
          "output_type": "execute_result",
          "data": {
            "text/plain": [
              "<BarContainer object of 3 artists>"
            ]
          },
          "metadata": {
            "tags": []
          },
          "execution_count": 11
        },
        {
          "output_type": "execute_result",
          "data": {
            "text/plain": [
              "([<matplotlib.axis.XTick at 0x7f4dbc699860>,\n",
              "  <matplotlib.axis.XTick at 0x7f4dbc699198>,\n",
              "  <matplotlib.axis.XTick at 0x7f4dbc674a90>],\n",
              " <a list of 3 Text xticklabel objects>)"
            ]
          },
          "metadata": {
            "tags": []
          },
          "execution_count": 11
        },
        {
          "output_type": "execute_result",
          "data": {
            "text/plain": [
              "Text(0.5, 1.0, 'Marketing Segments v/s Total Charges')"
            ]
          },
          "metadata": {
            "tags": []
          },
          "execution_count": 11
        },
        {
          "output_type": "execute_result",
          "data": {
            "text/plain": [
              "Text(0.5, 0, 'Segments')"
            ]
          },
          "metadata": {
            "tags": []
          },
          "execution_count": 11
        },
        {
          "output_type": "execute_result",
          "data": {
            "text/plain": [
              "Text(0, 0.5, 'Total Charges')"
            ]
          },
          "metadata": {
            "tags": []
          },
          "execution_count": 11
        },
        {
          "output_type": "display_data",
          "data": {
            "image/png": "[encoded data removed]",
            "text/plain": [
              "<Figure size 432x288 with 1 Axes>"
            ]
          },
          "metadata": {
            "tags": []
          }
        },
        {
          "output_type": "display_data",
          "data": {
            "text/plain": [
              "<Figure size 432x288 with 0 Axes>"
            ]
          },
          "metadata": {
            "tags": []
          }
        }
      ]
    },
    {
      "cell_type": "markdown",
      "metadata": {
        "id": "3sDdVl7Jaxsz",
        "colab_type": "text"
      },
      "source": [
        "Observe that even based on the total charges for each **Billing Account #** that belongs to a certain  **Marketing Segment**, the 'Marketing Segment 2' is most profitable. Hence we can conclude that it is most effective as it has given maximum ROMI (Return On Marketing Investment).\n",
        "\n",
        "Therefore, the Makreting team of ThinkRobots could possibly focus on Marketing Segment 2 for better sales and revenue."
      ]
    },
    {
      "cell_type": "code",
      "metadata": {
        "id": "kP0CpgzdlwUf",
        "colab_type": "code",
        "outputId": "6fb2863c-ca86-40fa-92f4-2555bebc35c3",
        "colab": {
          "base_uri": "https://localhost:8080/",
          "height": 68
        }
      },
      "source": [
        "print(\" Average revenue from Segment 1: %d\" % customer_romi[customer_romi['Segment'] == 'Marketing Segment 1']['Total Charges'].mean())\n",
        "print(\" Average revenue from Segment 2: %d\" % customer_romi[customer_romi['Segment'] == 'Marketing Segment 2']['Total Charges'].mean())\n",
        "print(\" Average revenue from Segment 3: %d\" % customer_romi[customer_romi['Segment'] == 'Marketing Segment 3']['Total Charges'].mean())"
      ],
      "execution_count": 0,
      "outputs": [
        {
          "output_type": "stream",
          "text": [
            " Average revenue from Segment 1: 669\n",
            " Average revenue from Segment 2: 565\n",
            " Average revenue from Segment 3: 474\n"
          ],
          "name": "stdout"
        }
      ]
    },
    {
      "cell_type": "code",
      "metadata": {
        "id": "bH9G-Jvdnw7a",
        "colab_type": "code",
        "outputId": "7da07062-4beb-4779-bde6-24d1a1fae423",
        "colab": {
          "base_uri": "https://localhost:8080/",
          "height": 68
        }
      },
      "source": [
        "print(\" Average sessions from Segment 1: %d\" % customer_romi[customer_romi['Segment'] == 'Marketing Segment 1']['Session Count'].mean())\n",
        "print(\" Average sessions from Segment 2: %d\" % customer_romi[customer_romi['Segment'] == 'Marketing Segment 2']['Session Count'].mean())\n",
        "print(\" Average sessions from Segment 3: %d\" % customer_romi[customer_romi['Segment'] == 'Marketing Segment 3']['Session Count'].mean())"
      ],
      "execution_count": 0,
      "outputs": [
        {
          "output_type": "stream",
          "text": [
            " Average sessions from Segment 1: 371\n",
            " Average sessions from Segment 2: 437\n",
            " Average sessions from Segment 3: 114\n"
          ],
          "name": "stdout"
        }
      ]
    },
    {
      "cell_type": "markdown",
      "metadata": {
        "id": "ZC_DgpF4nGar",
        "colab_type": "text"
      },
      "source": [
        "However we see that Segment 1 has higher average revenue (per customer) than Segment 2.\n",
        "\n",
        "This could mean that although Segment 2 comprise of higher volume of sale, Segment 1 have more willingness to pay for our services."
      ]
    },
    {
      "cell_type": "code",
      "metadata": {
        "id": "n13su1qBLdAs",
        "colab_type": "code",
        "outputId": "fd6f2836-f5db-4dc3-dd68-0d7528381143",
        "cellView": "code",
        "colab": {
          "base_uri": "https://localhost:8080/",
          "height": 536
        }
      },
      "source": [
        "#@title Default title text\n",
        "segment_customers = customer_segment.groupby('Segment').count()\n",
        "#segment_customers.drop(['Free Account Created Date', 'Last Seen', 'Session Count', 'Billing Account #'], axis = 1)\n",
        "segment_customers = segment_customers.rename(index = str, columns={'Customer ID': '# of Customers'})\n",
        "segment_customers.drop(['Free Account Created Date', 'Last Seen', 'Session Count', 'Billing Account #'], axis = 1)\n",
        "\n",
        "seg_label = np.array(segment_customers.index)\n",
        "customers = segment_customers.iloc[:, 0]\n",
        "pos = range(len(segment_customers.index))\n",
        "\n",
        "plt.bar(pos, customers, align = 'center', color = 'purple')\n",
        "plt.xticks(pos, seg_label)\n",
        "plt.title(\"Marketing Segments v/s No. of Customers\")\n",
        "plt.xlabel(\"Segments\")\n",
        "plt.ylabel(\"# of Customers\")\n",
        "plt.show()\n",
        "plt.savefig(\"drive/Colab Notebooks/segment_customers.png\")"
      ],
      "execution_count": 0,
      "outputs": [
        {
          "output_type": "execute_result",
          "data": {
            "text/html": [
              "<div>\n",
              "<style scoped>\n",
              "    .dataframe tbody tr th:only-of-type {\n",
              "        vertical-align: middle;\n",
              "    }\n",
              "\n",
              "    .dataframe tbody tr th {\n",
              "        vertical-align: top;\n",
              "    }\n",
              "\n",
              "    .dataframe thead th {\n",
              "        text-align: right;\n",
              "    }\n",
              "</style>\n",
              "<table border=\"1\" class=\"dataframe\">\n",
              "  <thead>\n",
              "    <tr style=\"text-align: right;\">\n",
              "      <th></th>\n",
              "      <th># of Customers</th>\n",
              "    </tr>\n",
              "    <tr>\n",
              "      <th>Segment</th>\n",
              "      <th></th>\n",
              "    </tr>\n",
              "  </thead>\n",
              "  <tbody>\n",
              "    <tr>\n",
              "      <th>Marketing Segment 1</th>\n",
              "      <td>254</td>\n",
              "    </tr>\n",
              "    <tr>\n",
              "      <th>Marketing Segment 2</th>\n",
              "      <td>402</td>\n",
              "    </tr>\n",
              "    <tr>\n",
              "      <th>Marketing Segment 3</th>\n",
              "      <td>344</td>\n",
              "    </tr>\n",
              "  </tbody>\n",
              "</table>\n",
              "</div>"
            ],
            "text/plain": [
              "                     # of Customers\n",
              "Segment                            \n",
              "Marketing Segment 1             254\n",
              "Marketing Segment 2             402\n",
              "Marketing Segment 3             344"
            ]
          },
          "metadata": {
            "tags": []
          },
          "execution_count": 14
        },
        {
          "output_type": "execute_result",
          "data": {
            "text/plain": [
              "<BarContainer object of 3 artists>"
            ]
          },
          "metadata": {
            "tags": []
          },
          "execution_count": 14
        },
        {
          "output_type": "execute_result",
          "data": {
            "text/plain": [
              "([<matplotlib.axis.XTick at 0x7f4dbc265c50>,\n",
              "  <matplotlib.axis.XTick at 0x7f4dbc265588>,\n",
              "  <matplotlib.axis.XTick at 0x7f4dbc2652b0>],\n",
              " <a list of 3 Text xticklabel objects>)"
            ]
          },
          "metadata": {
            "tags": []
          },
          "execution_count": 14
        },
        {
          "output_type": "execute_result",
          "data": {
            "text/plain": [
              "Text(0.5, 1.0, 'Marketing Segments v/s No. of Customers')"
            ]
          },
          "metadata": {
            "tags": []
          },
          "execution_count": 14
        },
        {
          "output_type": "execute_result",
          "data": {
            "text/plain": [
              "Text(0.5, 0, 'Segments')"
            ]
          },
          "metadata": {
            "tags": []
          },
          "execution_count": 14
        },
        {
          "output_type": "execute_result",
          "data": {
            "text/plain": [
              "Text(0, 0.5, '# of Customers')"
            ]
          },
          "metadata": {
            "tags": []
          },
          "execution_count": 14
        },
        {
          "output_type": "display_data",
          "data": {
            "image/png": "[encoded data removed]",
            "text/plain": [
              "<Figure size 432x288 with 1 Axes>"
            ]
          },
          "metadata": {
            "tags": []
          }
        },
        {
          "output_type": "display_data",
          "data": {
            "text/plain": [
              "<Figure size 432x288 with 0 Axes>"
            ]
          },
          "metadata": {
            "tags": []
          }
        }
      ]
    },
    {
      "cell_type": "markdown",
      "metadata": {
        "id": "6MxMpo6cNCar",
        "colab_type": "text"
      },
      "source": [
        "So based of the following factors - \n",
        "\n",
        "- \\# of customers in each segment.\n",
        "- Sessions per segment.\n",
        "- ROMI per segment.\n",
        "\n",
        "**Marketing Segment 2** is by far the most effective customer segment."
      ]
    },
    {
      "cell_type": "markdown",
      "metadata": {
        "id": "9S61qKYLqbpY",
        "colab_type": "text"
      },
      "source": [
        "# Question 2\n",
        "### The team is considering running a test campaign on Facebook ads. How  should they decide if it’s a success?  "
      ]
    },
    {
      "cell_type": "markdown",
      "metadata": {
        "id": "iBAOsAbMNuJc",
        "colab_type": "text"
      },
      "source": [
        "## Finding measurement factors for a successful Facebook Test Campaign:\n",
        "\n",
        "Based on the sample data we have the following information which could be useful:\n",
        "\n",
        "- \\# of Customers (Customer IDs)\n",
        "- Customer Segments\n",
        "- Free Account Created Date\n",
        "- Upgraded Account Created Date\n",
        "- Total Charges per Billing Account #\n",
        "\n",
        "Based on the sample dataset provided we could classify a test campaign as successful using the above **measurement factors**.\n",
        "\n",
        "\n",
        "**Goal:** To increase revenue and sales.\n",
        "\n",
        "\n",
        "**Observations:**\n",
        "\n",
        "- All the customers that had created a free account, upgraded their accounts undeniably. This means they liked the features of our service.\n",
        "- More 'sessions' a customer has more likely she/he is to stay loyal. As these customers are getting more **value** out of our product.\n",
        "- **Segment 2** is the most effective in terms of revenue, sales (# of customers) and usage trends (sessions per customer).\n",
        "- Every customer has her/his own time frame in which they convert to upgraded services.\n",
        "\n",
        "**Evaluation of a successful campaign can be done if following results are obtained from the campaign:**\n",
        "\n",
        "- Trivially, if we attract large number of customers then its a positive sign.\n",
        "- More customers from Segment 2 create accounts targetted by our campaign.\n",
        "- Customers derive more value by creating more sessions with our service. If customers attracted create more sessions then it's a positive sign.\n",
        "- If time frame in which customers switch from free to upgraded subscription becomes less.\n",
        "- Average **Total Charges** per customer should be 550 to 650 (Segment 1 has max. average total charge of 669 per customer).\n",
        "\n",
        "### Therefore, based on the measurement factors and observations, we can evaluate the Facebook test campaign as successful if the campaign generates more revenue and sales.\n",
        "\n",
        "### This goal can be achieved if we obtain the above stated results."
      ]
    },
    {
      "cell_type": "markdown",
      "metadata": {
        "id": "_fTxvFDdqoGe",
        "colab_type": "text"
      },
      "source": [
        "# Question 3\n",
        "### Any other advice?"
      ]
    },
    {
      "cell_type": "code",
      "metadata": {
        "id": "mOT9Zbrlqr85",
        "colab_type": "code",
        "outputId": "50e840ed-0bc7-4476-b891-adb0b3c6db63",
        "colab": {
          "base_uri": "https://localhost:8080/",
          "height": 51
        }
      },
      "source": [
        "#nat = np.datetime64('NaT')\n",
        "churn = customer_romi['Customer ID'].count() - customer_romi[pd.isnull(customer_romi['Upgraded Account Cancelled Date'])]['Customer ID'].count()\n",
        "current = customer_romi[pd.isnull(customer_romi['Upgraded Account Cancelled Date'])]['Customer ID'].count()\n",
        "print('Customers that cancelled their upgraded service: %d' % churn)\n",
        "current/customer_romi['Customer ID'].count()"
      ],
      "execution_count": 0,
      "outputs": [
        {
          "output_type": "stream",
          "text": [
            "Customers that cancelled their upgraded service: 123\n"
          ],
          "name": "stdout"
        },
        {
          "output_type": "execute_result",
          "data": {
            "text/plain": [
              "0.878698224852071"
            ]
          },
          "metadata": {
            "tags": []
          },
          "execution_count": 15
        }
      ]
    },
    {
      "cell_type": "markdown",
      "metadata": {
        "id": "pGC8BWqpCBN8",
        "colab_type": "text"
      },
      "source": [
        "So out of **1014 Accounts** of cutomers, **123 Accounts** have *deactivated* their upgraded service."
      ]
    },
    {
      "cell_type": "code",
      "metadata": {
        "id": "HXSr8o89A9gw",
        "colab_type": "code",
        "outputId": "c4f8f786-c218-4e91-a895-136d583ec8f0",
        "colab": {
          "base_uri": "https://localhost:8080/",
          "height": 550
        }
      },
      "source": [
        "vals = np.array([churn, current])\n",
        "colors = ['red', 'grey']\n",
        "labels = ['Churned Customer', 'Current Customer']\n",
        "plt.figure(figsize=(10,7))\n",
        "plt.pie(vals, explode = [0.2, 0], colors= colors, shadow=True, labels = labels, startangle=135, autopct='%1.1f%%')\n",
        "plt.title('Churn Rate Of The Customers')\n",
        "#plt.legend(loc = 'lower right')\n",
        "plt.show()\n",
        "plt.savefig(\"drive/Colab Notebooks/churn_rate_customers.png\")"
      ],
      "execution_count": 0,
      "outputs": [
        {
          "output_type": "execute_result",
          "data": {
            "text/plain": [
              "<Figure size 720x504 with 0 Axes>"
            ]
          },
          "metadata": {
            "tags": []
          },
          "execution_count": 16
        },
        {
          "output_type": "execute_result",
          "data": {
            "text/plain": [
              "([<matplotlib.patches.Wedge at 0x7f4dbc6e2048>,\n",
              "  <matplotlib.patches.Wedge at 0x7f4dbc6e29e8>],\n",
              " [Text(-1.1951824874946662, 0.5114086639724266, 'Churned Customer'),\n",
              "  Text(1.0113082687781187, -0.4327303843052907, 'Current Customer')],\n",
              " [Text(-0.7354969153813329, 0.3147130239830317, '12.1%'),\n",
              "  Text(0.551622692060792, -0.23603475507561306, '87.9%')])"
            ]
          },
          "metadata": {
            "tags": []
          },
          "execution_count": 16
        },
        {
          "output_type": "execute_result",
          "data": {
            "text/plain": [
              "Text(0.5, 1.0, 'Churn Rate Of The Customers')"
            ]
          },
          "metadata": {
            "tags": []
          },
          "execution_count": 16
        },
        {
          "output_type": "display_data",
          "data": {
            "image/png": "[encoded data removed]",
            "text/plain": [
              "<Figure size 720x504 with 1 Axes>"
            ]
          },
          "metadata": {
            "tags": []
          }
        },
        {
          "output_type": "display_data",
          "data": {
            "text/plain": [
              "<Figure size 432x288 with 0 Axes>"
            ]
          },
          "metadata": {
            "tags": []
          }
        }
      ]
    },
    {
      "cell_type": "code",
      "metadata": {
        "id": "X0qK2yuBOm9R",
        "colab_type": "code",
        "colab": {}
      },
      "source": [
        "customer_romi['Churned'] = None"
      ],
      "execution_count": 0,
      "outputs": []
    },
    {
      "cell_type": "code",
      "metadata": {
        "id": "kieowM1hOsbT",
        "colab_type": "code",
        "outputId": "3ee7e926-63e2-4c22-bfb6-b68678a27db0",
        "colab": {
          "base_uri": "https://localhost:8080/",
          "height": 306
        }
      },
      "source": [
        "customer_romi['Churned'] = np.where(customer_romi['Upgraded Account Cancelled Date'].isin([pd._libs.tslibs.nattype.NaT]), 0, 1)\n",
        "customer_romi.head()"
      ],
      "execution_count": 0,
      "outputs": [
        {
          "output_type": "execute_result",
          "data": {
            "text/html": [
              "<div>\n",
              "<style scoped>\n",
              "    .dataframe tbody tr th:only-of-type {\n",
              "        vertical-align: middle;\n",
              "    }\n",
              "\n",
              "    .dataframe tbody tr th {\n",
              "        vertical-align: top;\n",
              "    }\n",
              "\n",
              "    .dataframe thead th {\n",
              "        text-align: right;\n",
              "    }\n",
              "</style>\n",
              "<table border=\"1\" class=\"dataframe\">\n",
              "  <thead>\n",
              "    <tr style=\"text-align: right;\">\n",
              "      <th></th>\n",
              "      <th>Customer ID</th>\n",
              "      <th>Free Account Created Date</th>\n",
              "      <th>Last Seen</th>\n",
              "      <th>Session Count</th>\n",
              "      <th>Segment</th>\n",
              "      <th>Billing Account #</th>\n",
              "      <th>Account Status</th>\n",
              "      <th>Upgraded Account Created Date</th>\n",
              "      <th>Upgraded Account Cancelled Date</th>\n",
              "      <th>Total Charges</th>\n",
              "      <th>Churned</th>\n",
              "    </tr>\n",
              "  </thead>\n",
              "  <tbody>\n",
              "    <tr>\n",
              "      <th>0</th>\n",
              "      <td>1</td>\n",
              "      <td>2017-05-29</td>\n",
              "      <td>2019-04-05 08:02:32</td>\n",
              "      <td>1379</td>\n",
              "      <td>Marketing Segment 2</td>\n",
              "      <td>AX#93195</td>\n",
              "      <td>paying</td>\n",
              "      <td>2019-04-02</td>\n",
              "      <td>NaT</td>\n",
              "      <td>145.60</td>\n",
              "      <td>0</td>\n",
              "    </tr>\n",
              "    <tr>\n",
              "      <th>1</th>\n",
              "      <td>2</td>\n",
              "      <td>2017-12-17</td>\n",
              "      <td>2019-04-27 13:23:56</td>\n",
              "      <td>531</td>\n",
              "      <td>Marketing Segment 1</td>\n",
              "      <td>AX#20438</td>\n",
              "      <td>paying</td>\n",
              "      <td>2018-11-11</td>\n",
              "      <td>NaT</td>\n",
              "      <td>728.00</td>\n",
              "      <td>0</td>\n",
              "    </tr>\n",
              "    <tr>\n",
              "      <th>2</th>\n",
              "      <td>3</td>\n",
              "      <td>2017-01-30</td>\n",
              "      <td>2019-04-22 15:38:09</td>\n",
              "      <td>317</td>\n",
              "      <td>Marketing Segment 1</td>\n",
              "      <td>AX#60779</td>\n",
              "      <td>paying</td>\n",
              "      <td>2019-03-15</td>\n",
              "      <td>NaT</td>\n",
              "      <td>277.20</td>\n",
              "      <td>0</td>\n",
              "    </tr>\n",
              "    <tr>\n",
              "      <th>3</th>\n",
              "      <td>4</td>\n",
              "      <td>2017-02-03</td>\n",
              "      <td>2019-04-23 16:30:46</td>\n",
              "      <td>349</td>\n",
              "      <td>Marketing Segment 1</td>\n",
              "      <td>AX#91209</td>\n",
              "      <td>paying</td>\n",
              "      <td>2019-03-24</td>\n",
              "      <td>NaT</td>\n",
              "      <td>292.83</td>\n",
              "      <td>0</td>\n",
              "    </tr>\n",
              "    <tr>\n",
              "      <th>4</th>\n",
              "      <td>5</td>\n",
              "      <td>2017-03-18</td>\n",
              "      <td>2019-04-05 13:16:33</td>\n",
              "      <td>1158</td>\n",
              "      <td>Marketing Segment 2</td>\n",
              "      <td>AX#57000</td>\n",
              "      <td>paying</td>\n",
              "      <td>2018-10-12</td>\n",
              "      <td>NaT</td>\n",
              "      <td>462.00</td>\n",
              "      <td>0</td>\n",
              "    </tr>\n",
              "  </tbody>\n",
              "</table>\n",
              "</div>"
            ],
            "text/plain": [
              "   Customer ID Free Account Created Date           Last Seen  Session Count  \\\n",
              "0            1                2017-05-29 2019-04-05 08:02:32           1379   \n",
              "1            2                2017-12-17 2019-04-27 13:23:56            531   \n",
              "2            3                2017-01-30 2019-04-22 15:38:09            317   \n",
              "3            4                2017-02-03 2019-04-23 16:30:46            349   \n",
              "4            5                2017-03-18 2019-04-05 13:16:33           1158   \n",
              "\n",
              "               Segment Billing Account # Account Status  \\\n",
              "0  Marketing Segment 2          AX#93195         paying   \n",
              "1  Marketing Segment 1          AX#20438         paying   \n",
              "2  Marketing Segment 1          AX#60779         paying   \n",
              "3  Marketing Segment 1          AX#91209         paying   \n",
              "4  Marketing Segment 2          AX#57000         paying   \n",
              "\n",
              "  Upgraded Account Created Date Upgraded Account Cancelled Date  \\\n",
              "0                    2019-04-02                             NaT   \n",
              "1                    2018-11-11                             NaT   \n",
              "2                    2019-03-15                             NaT   \n",
              "3                    2019-03-24                             NaT   \n",
              "4                    2018-10-12                             NaT   \n",
              "\n",
              "   Total Charges  Churned  \n",
              "0         145.60        0  \n",
              "1         728.00        0  \n",
              "2         277.20        0  \n",
              "3         292.83        0  \n",
              "4         462.00        0  "
            ]
          },
          "metadata": {
            "tags": []
          },
          "execution_count": 18
        }
      ]
    },
    {
      "cell_type": "code",
      "metadata": {
        "id": "k1ZhIPD5P39A",
        "colab_type": "code",
        "colab": {}
      },
      "source": [
        "dum_customer_romi = pd.concat([customer_romi, pd.get_dummies(customer_romi['Segment'])], axis = 1)"
      ],
      "execution_count": 0,
      "outputs": []
    },
    {
      "cell_type": "code",
      "metadata": {
        "id": "kW3oT-G4Ux6h",
        "colab_type": "code",
        "outputId": "4ebbf7a8-8244-42d4-e2e2-1db7dde855da",
        "colab": {
          "base_uri": "https://localhost:8080/",
          "height": 408
        }
      },
      "source": [
        "dum_customer_romi.head()"
      ],
      "execution_count": 0,
      "outputs": [
        {
          "output_type": "execute_result",
          "data": {
            "text/html": [
              "<div>\n",
              "<style scoped>\n",
              "    .dataframe tbody tr th:only-of-type {\n",
              "        vertical-align: middle;\n",
              "    }\n",
              "\n",
              "    .dataframe tbody tr th {\n",
              "        vertical-align: top;\n",
              "    }\n",
              "\n",
              "    .dataframe thead th {\n",
              "        text-align: right;\n",
              "    }\n",
              "</style>\n",
              "<table border=\"1\" class=\"dataframe\">\n",
              "  <thead>\n",
              "    <tr style=\"text-align: right;\">\n",
              "      <th></th>\n",
              "      <th>Customer ID</th>\n",
              "      <th>Free Account Created Date</th>\n",
              "      <th>Last Seen</th>\n",
              "      <th>Session Count</th>\n",
              "      <th>Segment</th>\n",
              "      <th>Billing Account #</th>\n",
              "      <th>Account Status</th>\n",
              "      <th>Upgraded Account Created Date</th>\n",
              "      <th>Upgraded Account Cancelled Date</th>\n",
              "      <th>Total Charges</th>\n",
              "      <th>Churned</th>\n",
              "      <th>Marketing Segment 1</th>\n",
              "      <th>Marketing Segment 2</th>\n",
              "      <th>Marketing Segment 3</th>\n",
              "    </tr>\n",
              "  </thead>\n",
              "  <tbody>\n",
              "    <tr>\n",
              "      <th>0</th>\n",
              "      <td>1</td>\n",
              "      <td>2017-05-29</td>\n",
              "      <td>2019-04-05 08:02:32</td>\n",
              "      <td>1379</td>\n",
              "      <td>Marketing Segment 2</td>\n",
              "      <td>AX#93195</td>\n",
              "      <td>paying</td>\n",
              "      <td>2019-04-02</td>\n",
              "      <td>NaT</td>\n",
              "      <td>145.60</td>\n",
              "      <td>0</td>\n",
              "      <td>0</td>\n",
              "      <td>1</td>\n",
              "      <td>0</td>\n",
              "    </tr>\n",
              "    <tr>\n",
              "      <th>1</th>\n",
              "      <td>2</td>\n",
              "      <td>2017-12-17</td>\n",
              "      <td>2019-04-27 13:23:56</td>\n",
              "      <td>531</td>\n",
              "      <td>Marketing Segment 1</td>\n",
              "      <td>AX#20438</td>\n",
              "      <td>paying</td>\n",
              "      <td>2018-11-11</td>\n",
              "      <td>NaT</td>\n",
              "      <td>728.00</td>\n",
              "      <td>0</td>\n",
              "      <td>1</td>\n",
              "      <td>0</td>\n",
              "      <td>0</td>\n",
              "    </tr>\n",
              "    <tr>\n",
              "      <th>2</th>\n",
              "      <td>3</td>\n",
              "      <td>2017-01-30</td>\n",
              "      <td>2019-04-22 15:38:09</td>\n",
              "      <td>317</td>\n",
              "      <td>Marketing Segment 1</td>\n",
              "      <td>AX#60779</td>\n",
              "      <td>paying</td>\n",
              "      <td>2019-03-15</td>\n",
              "      <td>NaT</td>\n",
              "      <td>277.20</td>\n",
              "      <td>0</td>\n",
              "      <td>1</td>\n",
              "      <td>0</td>\n",
              "      <td>0</td>\n",
              "    </tr>\n",
              "    <tr>\n",
              "      <th>3</th>\n",
              "      <td>4</td>\n",
              "      <td>2017-02-03</td>\n",
              "      <td>2019-04-23 16:30:46</td>\n",
              "      <td>349</td>\n",
              "      <td>Marketing Segment 1</td>\n",
              "      <td>AX#91209</td>\n",
              "      <td>paying</td>\n",
              "      <td>2019-03-24</td>\n",
              "      <td>NaT</td>\n",
              "      <td>292.83</td>\n",
              "      <td>0</td>\n",
              "      <td>1</td>\n",
              "      <td>0</td>\n",
              "      <td>0</td>\n",
              "    </tr>\n",
              "    <tr>\n",
              "      <th>4</th>\n",
              "      <td>5</td>\n",
              "      <td>2017-03-18</td>\n",
              "      <td>2019-04-05 13:16:33</td>\n",
              "      <td>1158</td>\n",
              "      <td>Marketing Segment 2</td>\n",
              "      <td>AX#57000</td>\n",
              "      <td>paying</td>\n",
              "      <td>2018-10-12</td>\n",
              "      <td>NaT</td>\n",
              "      <td>462.00</td>\n",
              "      <td>0</td>\n",
              "      <td>0</td>\n",
              "      <td>1</td>\n",
              "      <td>0</td>\n",
              "    </tr>\n",
              "  </tbody>\n",
              "</table>\n",
              "</div>"
            ],
            "text/plain": [
              "   Customer ID Free Account Created Date           Last Seen  Session Count  \\\n",
              "0            1                2017-05-29 2019-04-05 08:02:32           1379   \n",
              "1            2                2017-12-17 2019-04-27 13:23:56            531   \n",
              "2            3                2017-01-30 2019-04-22 15:38:09            317   \n",
              "3            4                2017-02-03 2019-04-23 16:30:46            349   \n",
              "4            5                2017-03-18 2019-04-05 13:16:33           1158   \n",
              "\n",
              "               Segment Billing Account # Account Status  \\\n",
              "0  Marketing Segment 2          AX#93195         paying   \n",
              "1  Marketing Segment 1          AX#20438         paying   \n",
              "2  Marketing Segment 1          AX#60779         paying   \n",
              "3  Marketing Segment 1          AX#91209         paying   \n",
              "4  Marketing Segment 2          AX#57000         paying   \n",
              "\n",
              "  Upgraded Account Created Date Upgraded Account Cancelled Date  \\\n",
              "0                    2019-04-02                             NaT   \n",
              "1                    2018-11-11                             NaT   \n",
              "2                    2019-03-15                             NaT   \n",
              "3                    2019-03-24                             NaT   \n",
              "4                    2018-10-12                             NaT   \n",
              "\n",
              "   Total Charges  Churned  Marketing Segment 1  Marketing Segment 2  \\\n",
              "0         145.60        0                    0                    1   \n",
              "1         728.00        0                    1                    0   \n",
              "2         277.20        0                    1                    0   \n",
              "3         292.83        0                    1                    0   \n",
              "4         462.00        0                    0                    1   \n",
              "\n",
              "   Marketing Segment 3  \n",
              "0                    0  \n",
              "1                    0  \n",
              "2                    0  \n",
              "3                    0  \n",
              "4                    0  "
            ]
          },
          "metadata": {
            "tags": []
          },
          "execution_count": 20
        }
      ]
    },
    {
      "cell_type": "code",
      "metadata": {
        "id": "6DW9v25fP5kt",
        "colab_type": "code",
        "colab": {}
      },
      "source": [
        "Y = dum_customer_romi['Churned'].values\n",
        "X = dum_customer_romi.drop(['Billing Account #', 'Churned', 'Account Status', 'Upgraded Account Created Date', 'Upgraded Account Cancelled Date', 'Last Seen', 'Customer ID', 'Free Account Created Date', 'Segment'], axis = 1)"
      ],
      "execution_count": 0,
      "outputs": []
    },
    {
      "cell_type": "code",
      "metadata": {
        "id": "mHRMHZ1UUoFZ",
        "colab_type": "code",
        "outputId": "018f4d17-a811-4906-e385-196b53df59c0",
        "colab": {
          "base_uri": "https://localhost:8080/",
          "height": 204
        }
      },
      "source": [
        "X.head()"
      ],
      "execution_count": 0,
      "outputs": [
        {
          "output_type": "execute_result",
          "data": {
            "text/html": [
              "<div>\n",
              "<style scoped>\n",
              "    .dataframe tbody tr th:only-of-type {\n",
              "        vertical-align: middle;\n",
              "    }\n",
              "\n",
              "    .dataframe tbody tr th {\n",
              "        vertical-align: top;\n",
              "    }\n",
              "\n",
              "    .dataframe thead th {\n",
              "        text-align: right;\n",
              "    }\n",
              "</style>\n",
              "<table border=\"1\" class=\"dataframe\">\n",
              "  <thead>\n",
              "    <tr style=\"text-align: right;\">\n",
              "      <th></th>\n",
              "      <th>Session Count</th>\n",
              "      <th>Total Charges</th>\n",
              "      <th>Marketing Segment 1</th>\n",
              "      <th>Marketing Segment 2</th>\n",
              "      <th>Marketing Segment 3</th>\n",
              "    </tr>\n",
              "  </thead>\n",
              "  <tbody>\n",
              "    <tr>\n",
              "      <th>0</th>\n",
              "      <td>1379</td>\n",
              "      <td>145.60</td>\n",
              "      <td>0</td>\n",
              "      <td>1</td>\n",
              "      <td>0</td>\n",
              "    </tr>\n",
              "    <tr>\n",
              "      <th>1</th>\n",
              "      <td>531</td>\n",
              "      <td>728.00</td>\n",
              "      <td>1</td>\n",
              "      <td>0</td>\n",
              "      <td>0</td>\n",
              "    </tr>\n",
              "    <tr>\n",
              "      <th>2</th>\n",
              "      <td>317</td>\n",
              "      <td>277.20</td>\n",
              "      <td>1</td>\n",
              "      <td>0</td>\n",
              "      <td>0</td>\n",
              "    </tr>\n",
              "    <tr>\n",
              "      <th>3</th>\n",
              "      <td>349</td>\n",
              "      <td>292.83</td>\n",
              "      <td>1</td>\n",
              "      <td>0</td>\n",
              "      <td>0</td>\n",
              "    </tr>\n",
              "    <tr>\n",
              "      <th>4</th>\n",
              "      <td>1158</td>\n",
              "      <td>462.00</td>\n",
              "      <td>0</td>\n",
              "      <td>1</td>\n",
              "      <td>0</td>\n",
              "    </tr>\n",
              "  </tbody>\n",
              "</table>\n",
              "</div>"
            ],
            "text/plain": [
              "   Session Count  Total Charges  Marketing Segment 1  Marketing Segment 2  \\\n",
              "0           1379         145.60                    0                    1   \n",
              "1            531         728.00                    1                    0   \n",
              "2            317         277.20                    1                    0   \n",
              "3            349         292.83                    1                    0   \n",
              "4           1158         462.00                    0                    1   \n",
              "\n",
              "   Marketing Segment 3  \n",
              "0                    0  \n",
              "1                    0  \n",
              "2                    0  \n",
              "3                    0  \n",
              "4                    0  "
            ]
          },
          "metadata": {
            "tags": []
          },
          "execution_count": 22
        }
      ]
    },
    {
      "cell_type": "code",
      "metadata": {
        "id": "IJDDHRSiVYn-",
        "colab_type": "code",
        "colab": {}
      },
      "source": [
        "from sklearn.model_selection import train_test_split\n",
        "X_train, X_test, Y_train, Y_test = train_test_split(X, Y, test_size=0.2, random_state=101)"
      ],
      "execution_count": 0,
      "outputs": []
    },
    {
      "cell_type": "code",
      "metadata": {
        "id": "tT2vDw3xVp4G",
        "colab_type": "code",
        "outputId": "e872717d-235d-4619-ce8f-861279b5a41d",
        "colab": {
          "base_uri": "https://localhost:8080/",
          "height": 71
        }
      },
      "source": [
        "from sklearn.linear_model import LogisticRegression\n",
        "model = LogisticRegression()\n",
        "result = model.fit(X_train, Y_train)"
      ],
      "execution_count": 0,
      "outputs": [
        {
          "output_type": "stream",
          "text": [
            "/usr/local/lib/python3.6/dist-packages/sklearn/linear_model/logistic.py:433: FutureWarning: Default solver will be changed to 'lbfgs' in 0.22. Specify a solver to silence this warning.\n",
            "  FutureWarning)\n"
          ],
          "name": "stderr"
        }
      ]
    },
    {
      "cell_type": "code",
      "metadata": {
        "id": "5Scv_b2IXKS_",
        "colab_type": "code",
        "outputId": "be51885d-ccdd-476c-b2c0-a7c25448cb2b",
        "colab": {
          "base_uri": "https://localhost:8080/",
          "height": 34
        }
      },
      "source": [
        "from sklearn import metrics\n",
        "prediction_test = model.predict(X_test)\n",
        "# Print the prediction accuracy\n",
        "print (metrics.accuracy_score(Y_test, prediction_test))"
      ],
      "execution_count": 0,
      "outputs": [
        {
          "output_type": "stream",
          "text": [
            "0.8472906403940886\n"
          ],
          "name": "stdout"
        }
      ]
    },
    {
      "cell_type": "code",
      "metadata": {
        "colab_type": "code",
        "outputId": "7858ca72-c543-4904-8b3e-4e2c41d978ba",
        "id": "khAfH0GUpgTA",
        "colab": {
          "base_uri": "https://localhost:8080/",
          "height": 489
        }
      },
      "source": [
        "print('Churned Segment 1 customers: %d' % customer_romi[(customer_romi['Segment'] == 'Marketing Segment 1') & (customer_romi['Churned'] == 1)].shape[0])\n",
        "print('Churned Segment 2 customers: %d' % customer_romi[(customer_romi['Segment'] == 'Marketing Segment 2') & (customer_romi['Churned'] == 1)].shape[0])\n",
        "print('Churned Segment 3 customers: %d' % customer_romi[(customer_romi['Segment'] == 'Marketing Segment 3') & (customer_romi['Churned'] == 1)].shape[0])\n",
        "\n",
        "vals = np.array([customer_romi[(customer_romi['Segment'] == 'Marketing Segment 1') & (customer_romi['Churned'] == 1)].shape[0], customer_romi[(customer_romi['Segment'] == 'Marketing Segment 2') & (customer_romi['Churned'] == 1)].shape[0], customer_romi[(customer_romi['Segment'] == 'Marketing Segment 3') & (customer_romi['Churned'] == 1)].shape[0]])\n",
        "colors = ['blue', 'red', 'blue']\n",
        "labels = ['Segment 1', 'Segment 2', 'Segment 3']\n",
        "plt.pie(vals, explode = [0.01, 0.05, 0.01], colors= colors, shadow=True, labels = labels, startangle=135, autopct='%1.1f%%')\n",
        "plt.title('Churn Rate Of The Customer Segments')\n",
        "#plt.legend(loc = 'lower right')\n",
        "plt.show()\n",
        "plt.savefig(\"drive/Colab Notebooks/churnrate_segment.png\")"
      ],
      "execution_count": 0,
      "outputs": [
        {
          "output_type": "stream",
          "text": [
            "Churned Segment 1 customers: 17\n",
            "Churned Segment 2 customers: 57\n",
            "Churned Segment 3 customers: 49\n"
          ],
          "name": "stdout"
        },
        {
          "output_type": "execute_result",
          "data": {
            "text/plain": [
              "([<matplotlib.patches.Wedge at 0x7f4db5e39b00>,\n",
              "  <matplotlib.patches.Wedge at 0x7f4db5e454e0>,\n",
              "  <matplotlib.patches.Wedge at 0x7f4db5e45e80>],\n",
              " [Text(-1.0422483998638292, 0.38186158877437254, 'Segment 1'),\n",
              "  Text(-0.036709495616865734, -1.1494139432474078, 'Segment 2'),\n",
              "  Text(0.49887065463021585, 0.991578574772983, 'Segment 3')],\n",
              " [Text(-0.572767138663906, 0.20985186410123172, '13.8%'),\n",
              "  Text(-0.020748845348663236, -0.6496687505311436, '46.3%'),\n",
              "  Text(0.274154143535524, 0.544921559109477, '39.8%')])"
            ]
          },
          "metadata": {
            "tags": []
          },
          "execution_count": 26
        },
        {
          "output_type": "execute_result",
          "data": {
            "text/plain": [
              "Text(0.5, 1.0, 'Churn Rate Of The Customer Segments')"
            ]
          },
          "metadata": {
            "tags": []
          },
          "execution_count": 26
        },
        {
          "output_type": "display_data",
          "data": {
            "image/png": "[encoded data removed]",
            "text/plain": [
              "<Figure size 432x288 with 1 Axes>"
            ]
          },
          "metadata": {
            "tags": []
          }
        },
        {
          "output_type": "display_data",
          "data": {
            "text/plain": [
              "<Figure size 432x288 with 0 Axes>"
            ]
          },
          "metadata": {
            "tags": []
          }
        }
      ]
    },
    {
      "cell_type": "code",
      "metadata": {
        "id": "xQ9zxSauXSSU",
        "colab_type": "code",
        "outputId": "e4e61c77-47ee-460c-92d6-323eeab007da",
        "colab": {
          "base_uri": "https://localhost:8080/",
          "height": 119
        }
      },
      "source": [
        "# To get the weights of all the variables\n",
        "weights = pd.Series(model.coef_[0],\n",
        " index=X.columns.values)\n",
        "weights.sort_values(ascending = False)"
      ],
      "execution_count": 0,
      "outputs": [
        {
          "output_type": "execute_result",
          "data": {
            "text/plain": [
              "Total Charges          0.00\n",
              "Session Count         -0.01\n",
              "Marketing Segment 2   -0.12\n",
              "Marketing Segment 3   -0.40\n",
              "Marketing Segment 1   -0.86\n",
              "dtype: float64"
            ]
          },
          "metadata": {
            "tags": []
          },
          "execution_count": 27
        }
      ]
    },
    {
      "cell_type": "markdown",
      "metadata": {
        "id": "a5QSX5W8YVj9",
        "colab_type": "text"
      },
      "source": [
        "Based on the model Customers in Segment 1 are least likely to churn and customers in Segment 2 are more likely to churn in comparison to Segment 1.\n",
        "\n",
        "The Accuracy of our model is 84.72%.\n",
        "\n",
        "We may be missing some more significant features that we are not accounting for in our model."
      ]
    }
  ]
}